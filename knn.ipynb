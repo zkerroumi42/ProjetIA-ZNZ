{
 "cells": [
  {
   "cell_type": "code",
   "execution_count": 10,
   "metadata": {},
   "outputs": [],
   "source": [
    "import os\n",
    "import numpy as np\n",
    "from sklearn.model_selection import train_test_split\n",
    "from sklearn.neighbors import KNeighborsClassifier\n",
    "from sklearn.metrics import accuracy_score\n",
    "from skimage import io, color, transform\n",
    "from sklearn import preprocessing\n",
    "import joblib\n",
    "\n"
   ]
  },
  {
   "cell_type": "code",
   "execution_count": 6,
   "metadata": {},
   "outputs": [],
   "source": [
    "dataset_path = \"/home/zkerroumi42/ProjetIA-ZNZ/dataset\"\n",
    "\n",
    "class_labels = [\"Benign_Keratosis_(BKL)\", \"Molluscum\", \"Seborrheic_Keratoses\"]"
   ]
  },
  {
   "cell_type": "code",
   "execution_count": 7,
   "metadata": {},
   "outputs": [],
   "source": [
    "def load_images_and_labels(folder_path):\n",
    "    images = []\n",
    "    labels = []\n",
    "    for class_label, folder_name in enumerate(class_labels):\n",
    "        class_folder = os.path.join(folder_path, folder_name)\n",
    "        for filename in os.listdir(class_folder):\n",
    "            image_path = os.path.join(class_folder, filename)\n",
    "            image = io.imread(image_path)\n",
    "            image = color.rgb2gray(image)  \n",
    "            image = transform.resize(image, (64, 64))  \n",
    "            images.append(image.flatten())  \n",
    "            labels.append(class_label)\n",
    "    return np.array(images), np.array(labels)"
   ]
  },
  {
   "cell_type": "code",
   "execution_count": 8,
   "metadata": {},
   "outputs": [],
   "source": [
    "images, labels = load_images_and_labels(dataset_path)\n",
    "\n",
    "X_train, X_test, y_train, y_test = train_test_split(images, labels, test_size=0.2, random_state=42)\n",
    "\n",
    "\n",
    "scaler = preprocessing.StandardScaler().fit(X_train)\n",
    "X_train = scaler.transform(X_train)\n",
    "X_test = scaler.transform(X_test)\n",
    "\n",
    "\n",
    "k_neighbors = 3 \n",
    "knn_classifier = KNeighborsClassifier(n_neighbors=k_neighbors)\n",
    "\n"
   ]
  },
  {
   "cell_type": "code",
   "execution_count": 11,
   "metadata": {},
   "outputs": [],
   "source": [
    "\n",
    "knn_classifier.fit(X_train, y_train)\n",
    "\n",
    "# Save the trained SVM model \n",
    "joblib.dump(knn_classifier, 'knn_model.h5')\n",
    "\n",
    "# Load the model \n",
    "loaded_knn_model = joblib.load('knn_model.h5')"
   ]
  },
  {
   "cell_type": "code",
   "execution_count": 12,
   "metadata": {},
   "outputs": [
    {
     "name": "stdout",
     "output_type": "stream",
     "text": [
      "Accuracy: 0.6301824212271974\n"
     ]
    }
   ],
   "source": [
    "\n",
    "y_pred = loaded_knn_model.predict(X_test)\n",
    "\n",
    "\n",
    "accuracy = accuracy_score(y_test, y_pred)\n",
    "print(f\"Accuracy: {accuracy}\")"
   ]
  }
 ],
 "metadata": {
  "kernelspec": {
   "display_name": "venv",
   "language": "python",
   "name": "python3"
  },
  "language_info": {
   "codemirror_mode": {
    "name": "ipython",
    "version": 3
   },
   "file_extension": ".py",
   "mimetype": "text/x-python",
   "name": "python",
   "nbconvert_exporter": "python",
   "pygments_lexer": "ipython3",
   "version": "3.10.12"
  }
 },
 "nbformat": 4,
 "nbformat_minor": 2
}
