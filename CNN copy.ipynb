{
 "cells": [
  {
   "cell_type": "markdown",
   "metadata": {},
   "source": [
    "Import Libraries:"
   ]
  },
  {
   "cell_type": "code",
   "execution_count": 1,
   "metadata": {},
   "outputs": [
    {
     "name": "stderr",
     "output_type": "stream",
     "text": [
      "2024-01-17 09:16:26.106973: I external/local_tsl/tsl/cuda/cudart_stub.cc:31] Could not find cuda drivers on your machine, GPU will not be used.\n",
      "2024-01-17 09:16:26.505454: E external/local_xla/xla/stream_executor/cuda/cuda_dnn.cc:9261] Unable to register cuDNN factory: Attempting to register factory for plugin cuDNN when one has already been registered\n",
      "2024-01-17 09:16:26.505655: E external/local_xla/xla/stream_executor/cuda/cuda_fft.cc:607] Unable to register cuFFT factory: Attempting to register factory for plugin cuFFT when one has already been registered\n",
      "2024-01-17 09:16:26.573836: E external/local_xla/xla/stream_executor/cuda/cuda_blas.cc:1515] Unable to register cuBLAS factory: Attempting to register factory for plugin cuBLAS when one has already been registered\n",
      "2024-01-17 09:16:26.723827: I external/local_tsl/tsl/cuda/cudart_stub.cc:31] Could not find cuda drivers on your machine, GPU will not be used.\n",
      "2024-01-17 09:16:26.727001: I tensorflow/core/platform/cpu_feature_guard.cc:182] This TensorFlow binary is optimized to use available CPU instructions in performance-critical operations.\n",
      "To enable the following instructions: AVX2 FMA, in other operations, rebuild TensorFlow with the appropriate compiler flags.\n",
      "2024-01-17 09:16:28.106404: W tensorflow/compiler/tf2tensorrt/utils/py_utils.cc:38] TF-TRT Warning: Could not find TensorRT\n"
     ]
    }
   ],
   "source": [
    "import tensorflow as tf\n",
    "from tensorflow import keras\n",
    "from keras import  layers, models\n",
    "#from tensorflow.python.keras import layers, models\n",
    "import os\n",
    "from skimage import io, color, transform\n",
    "import numpy as np\n",
    "\n",
    "import os\n",
    "from skimage import io, color, transform\n",
    "import numpy as np\n"
   ]
  },
  {
   "cell_type": "markdown",
   "metadata": {},
   "source": [
    "Define Constants:"
   ]
  },
  {
   "cell_type": "code",
   "execution_count": 4,
   "metadata": {},
   "outputs": [],
   "source": [
    "# Specify the path to your dataset\n",
    "\n",
    "dataset_path = \"/home/zkerroumi42/ProjetIA-ZNZ/dataset\"\n",
    "\n",
    "class_labels = [\"Benign_Keratosis_(BKL)\", \"Molluscum\", \"Seborrheic_Keratoses\"]\n",
    "image_height, image_width = 224, 224\n",
    "num_classes = len(class_labels)"
   ]
  },
  {
   "cell_type": "markdown",
   "metadata": {},
   "source": [
    "Data Preprocessing:"
   ]
  },
  {
   "cell_type": "code",
   "execution_count": 2,
   "metadata": {},
   "outputs": [],
   "source": [
    "def load_images_and_labels(folder_path):\n",
    "    images = []\n",
    "    labels = []\n",
    "    for class_label, folder_name in enumerate(class_labels):\n",
    "        class_folder = os.path.join(folder_path, folder_name)\n",
    "        for filename in os.listdir(class_folder):\n",
    "            image_path = os.path.join(class_folder, filename)\n",
    "            image = io.imread(image_path)\n",
    "            image = color.rgb2gray(image)  # Convert to grayscale\n",
    "            image = transform.resize(image, (image_height, image_width))  # Resize the image\n",
    "            images.append(image.flatten())  # Flatten the image\n",
    "            labels.append(class_label)\n",
    "    return np.array(images), np.array(labels)"
   ]
  },
  {
   "cell_type": "code",
   "execution_count": 5,
   "metadata": {},
   "outputs": [
    {
     "ename": "",
     "evalue": "",
     "output_type": "error",
     "traceback": [
      "\u001b[1;31mThe Kernel crashed while executing code in the the current cell or a previous cell. Please review the code in the cell(s) to identify a possible cause of the failure. Click <a href='https://aka.ms/vscodeJupyterKernelCrash'>here</a> for more info. View Jupyter <a href='command:jupyter.viewOutput'>log</a> for further details."
     ]
    }
   ],
   "source": [
    "\n",
    "# Load and preprocess the images\n",
    "X, y = load_images_and_labels(dataset_path)\n",
    "\n",
    "# Split the dataset into training and testing sets\n",
    "from sklearn.model_selection import train_test_split\n",
    "X_train, X_test, y_train, y_test = train_test_split(X, y, test_size=0.2, random_state=42)\n",
    "\n",
    "# Reshape the input data to fit the CNN model\n",
    "import numpy as np\n",
    "X_train = X_train.reshape(-1, image_height, image_width, 1)\n",
    "X_test = X_test.reshape(-1, image_height, image_width, 1)\n",
    "\n",
    "# Convert labels to one-hot encoding\n",
    "from keras.utils import to_categorical\n",
    "y_train_one_hot = to_categorical(y_train, num_classes)\n",
    "y_test_one_hot = to_categorical(y_test, num_classes)\n"
   ]
  },
  {
   "cell_type": "markdown",
   "metadata": {},
   "source": [
    "Build the CNN Model:"
   ]
  },
  {
   "cell_type": "code",
   "execution_count": 5,
   "metadata": {},
   "outputs": [
    {
     "name": "stdout",
     "output_type": "stream",
     "text": [
      "WARNING:tensorflow:From d:\\programsD\\Python311\\Lib\\site-packages\\keras\\src\\backend.py:873: The name tf.get_default_graph is deprecated. Please use tf.compat.v1.get_default_graph instead.\n",
      "\n",
      "WARNING:tensorflow:From d:\\programsD\\Python311\\Lib\\site-packages\\keras\\src\\layers\\pooling\\max_pooling2d.py:161: The name tf.nn.max_pool is deprecated. Please use tf.nn.max_pool2d instead.\n",
      "\n"
     ]
    }
   ],
   "source": [
    "from keras import  layers, models\n",
    "model = models.Sequential()\n",
    "model.add(layers.Conv2D(32, (3, 3), activation='relu', input_shape=(image_height, image_width, 1)))\n",
    "model.add(layers.MaxPooling2D((2, 2)))\n",
    "model.add(layers.Conv2D(64, (3, 3), activation='relu'))\n",
    "model.add(layers.MaxPooling2D((2, 2)))\n",
    "model.add(layers.Conv2D(128, (3, 3), activation='relu'))\n",
    "model.add(layers.MaxPooling2D((2, 2)))\n",
    "model.add(layers.Flatten())\n",
    "model.add(layers.Dense(128, activation='relu'))\n",
    "model.add(layers.Dense(num_classes, activation='softmax'))\n",
    "\n"
   ]
  },
  {
   "cell_type": "markdown",
   "metadata": {},
   "source": [
    "Compile the Model"
   ]
  },
  {
   "cell_type": "code",
   "execution_count": 6,
   "metadata": {},
   "outputs": [
    {
     "name": "stdout",
     "output_type": "stream",
     "text": [
      "WARNING:tensorflow:From d:\\programsD\\Python311\\Lib\\site-packages\\keras\\src\\optimizers\\__init__.py:309: The name tf.train.Optimizer is deprecated. Please use tf.compat.v1.train.Optimizer instead.\n",
      "\n"
     ]
    }
   ],
   "source": [
    "model.compile(optimizer='adam', loss='categorical_crossentropy', metrics=['accuracy'])"
   ]
  },
  {
   "cell_type": "markdown",
   "metadata": {},
   "source": [
    "Train the Model:"
   ]
  },
  {
   "cell_type": "code",
   "execution_count": 7,
   "metadata": {},
   "outputs": [
    {
     "name": "stdout",
     "output_type": "stream",
     "text": [
      "Epoch 1/10\n",
      "WARNING:tensorflow:From d:\\programsD\\Python311\\Lib\\site-packages\\keras\\src\\utils\\tf_utils.py:492: The name tf.ragged.RaggedTensorValue is deprecated. Please use tf.compat.v1.ragged.RaggedTensorValue instead.\n",
      "\n",
      "WARNING:tensorflow:From d:\\programsD\\Python311\\Lib\\site-packages\\keras\\src\\engine\\base_layer_utils.py:384: The name tf.executing_eagerly_outside_functions is deprecated. Please use tf.compat.v1.executing_eagerly_outside_functions instead.\n",
      "\n",
      "101/101 [==============================] - 155s 1s/step - loss: 0.8721 - accuracy: 0.5991 - val_loss: 0.7212 - val_accuracy: 0.6908\n",
      "Epoch 2/10\n",
      "101/101 [==============================] - 74s 734ms/step - loss: 0.5793 - accuracy: 0.7332 - val_loss: 0.5396 - val_accuracy: 0.7494\n",
      "Epoch 3/10\n",
      "101/101 [==============================] - 71s 702ms/step - loss: 0.4664 - accuracy: 0.7911 - val_loss: 0.4996 - val_accuracy: 0.7855\n",
      "Epoch 4/10\n",
      "101/101 [==============================] - 70s 695ms/step - loss: 0.4251 - accuracy: 0.8108 - val_loss: 0.4920 - val_accuracy: 0.7731\n",
      "Epoch 5/10\n",
      "101/101 [==============================] - 72s 715ms/step - loss: 0.3586 - accuracy: 0.8479 - val_loss: 0.4674 - val_accuracy: 0.7993\n",
      "Epoch 6/10\n",
      "101/101 [==============================] - 72s 714ms/step - loss: 0.3247 - accuracy: 0.8563 - val_loss: 0.5231 - val_accuracy: 0.7843\n",
      "Epoch 7/10\n",
      "101/101 [==============================] - 73s 729ms/step - loss: 0.2525 - accuracy: 0.8934 - val_loss: 0.6229 - val_accuracy: 0.7793\n",
      "Epoch 8/10\n",
      "101/101 [==============================] - 72s 709ms/step - loss: 0.2389 - accuracy: 0.8984 - val_loss: 0.7101 - val_accuracy: 0.7980\n",
      "Epoch 9/10\n",
      "101/101 [==============================] - 74s 735ms/step - loss: 0.2043 - accuracy: 0.9180 - val_loss: 0.7349 - val_accuracy: 0.7868\n",
      "Epoch 10/10\n",
      "101/101 [==============================] - 72s 715ms/step - loss: 0.1537 - accuracy: 0.9398 - val_loss: 0.8828 - val_accuracy: 0.7781\n"
     ]
    }
   ],
   "source": [
    "history=model.fit(X_train, y_train_one_hot, epochs=10, validation_split=0.2)\n"
   ]
  },
  {
   "cell_type": "markdown",
   "metadata": {},
   "source": [
    "Saving the model and  Evaluate the model on the test set"
   ]
  },
  {
   "cell_type": "code",
   "execution_count": 8,
   "metadata": {},
   "outputs": [
    {
     "name": "stdout",
     "output_type": "stream",
     "text": [
      "32/32 [==============================] - 4s 132ms/step - loss: 0.9015 - accuracy: 0.7537\n",
      "Test Accuracy: 75.37%\n"
     ]
    }
   ],
   "source": [
    "# Save the model architecture to a JSON file\n",
    "model_json = model.to_json()\n",
    "with open(\"cnn_model_archi.json\", \"w\") as json_file:\n",
    "    json_file.write(model_json)\n",
    "\n",
    "# Save the model weights to an HDF5 file\n",
    "model.save_weights(\"cnn_model_weights.h5\")\n",
    "\n",
    "# Evaluate the model on the test set\n",
    "test_loss, test_accuracy = model.evaluate(X_test, y_test_one_hot)\n",
    "\n",
    "print(f'Test Accuracy: {test_accuracy * 100:.2f}%')\n",
    "\n",
    "# Optionally, save the training history to a file\n",
    "np.save(\"training_history.npy\", history.history)"
   ]
  },
  {
   "cell_type": "markdown",
   "metadata": {},
   "source": [
    " Evaluate the model on the test set"
   ]
  }
 ],
 "metadata": {
  "kernelspec": {
   "display_name": "Python 3",
   "language": "python",
   "name": "python3"
  },
  "language_info": {
   "codemirror_mode": {
    "name": "ipython",
    "version": 3
   },
   "file_extension": ".py",
   "mimetype": "text/x-python",
   "name": "python",
   "nbconvert_exporter": "python",
   "pygments_lexer": "ipython3",
   "version": "3.10.12"
  }
 },
 "nbformat": 4,
 "nbformat_minor": 2
}
